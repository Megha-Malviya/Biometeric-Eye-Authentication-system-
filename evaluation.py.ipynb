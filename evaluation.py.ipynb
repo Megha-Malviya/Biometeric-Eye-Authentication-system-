{
 "cells": [
  {
   "cell_type": "code",
   "execution_count": 3,
   "id": "2c77f3bf",
   "metadata": {},
   "outputs": [
    {
     "name": "stderr",
     "output_type": "stream",
     "text": [
      "WARNING:absl:Compiled the loaded model, but the compiled metrics have yet to be built. `model.compile_metrics` will be empty until you train or evaluate the model.\n"
     ]
    },
    {
     "name": "stdout",
     "output_type": "stream",
     "text": [
      "Found 683 images belonging to 3 classes.\n"
     ]
    },
    {
     "name": "stderr",
     "output_type": "stream",
     "text": [
      "C:\\Users\\DELL\\anaconda3\\Lib\\site-packages\\keras\\src\\trainers\\data_adapters\\py_dataset_adapter.py:121: UserWarning: Your `PyDataset` class should call `super().__init__(**kwargs)` in its constructor. `**kwargs` can include `workers`, `use_multiprocessing`, `max_queue_size`. Do not pass these arguments to `fit()`, as they will be ignored.\n",
      "  self._warn_if_super_not_called()\n"
     ]
    },
    {
     "name": "stdout",
     "output_type": "stream",
     "text": [
      "\u001b[1m22/22\u001b[0m \u001b[32m━━━━━━━━━━━━━━━━━━━━\u001b[0m\u001b[37m\u001b[0m \u001b[1m9s\u001b[0m 395ms/step\n",
      "Classification Report:\n",
      "              precision    recall  f1-score   support\n",
      "\n",
      "       Ishan       1.00      1.00      1.00       199\n",
      "       Sunil       1.00      1.00      1.00       274\n",
      "       salaj       1.00      1.00      1.00       210\n",
      "\n",
      "    accuracy                           1.00       683\n",
      "   macro avg       1.00      1.00      1.00       683\n",
      "weighted avg       1.00      1.00      1.00       683\n",
      "\n",
      "Weighted F1 Score: 1.00\n"
     ]
    }
   ],
   "source": [
    "import os\n",
    "import numpy as np\n",
    "from tensorflow.keras.models import load_model\n",
    "from tensorflow.keras.preprocessing.image import ImageDataGenerator\n",
    "from sklearn.metrics import classification_report, f1_score\n",
    "import json\n",
    "\n",
    "# Paths\n",
    "MODEL_PATH = \"face_recognition_model.h5\"\n",
    "TEST_DATASET_DIR = \"dataset\"\n",
    "CLASS_INDICES_PATH = \"class_indices.json\"\n",
    "\n",
    "# Load the model\n",
    "model = load_model(MODEL_PATH)\n",
    "\n",
    "# Load class indices\n",
    "with open(CLASS_INDICES_PATH, 'r') as f:\n",
    "    class_indices = json.load(f)\n",
    "label_map = {v: k for k, v in class_indices.items()}\n",
    "\n",
    "# Preprocess test data\n",
    "datagen = ImageDataGenerator(rescale=1.0/255.0)\n",
    "test_generator = datagen.flow_from_directory(\n",
    "    TEST_DATASET_DIR,\n",
    "    target_size=(128, 128),\n",
    "    batch_size=32,\n",
    "    class_mode='categorical',\n",
    "    shuffle=False\n",
    ")\n",
    "\n",
    "# Get ground truth and predictions\n",
    "y_true = test_generator.classes\n",
    "y_pred_prob = model.predict(test_generator)\n",
    "y_pred = np.argmax(y_pred_prob, axis=1)\n",
    "\n",
    "# Calculate F1 Score\n",
    "print(\"Classification Report:\")\n",
    "print(classification_report(y_true, y_pred, target_names=list(label_map.values())))\n",
    "\n",
    "f1 = f1_score(y_true, y_pred, average='weighted')\n",
    "print(f\"Weighted F1 Score: {f1:.2f}\")\n"
   ]
  },
  {
   "cell_type": "code",
   "execution_count": null,
   "id": "467c3c06",
   "metadata": {},
   "outputs": [],
   "source": []
  },
  {
   "cell_type": "code",
   "execution_count": null,
   "id": "4733c270",
   "metadata": {},
   "outputs": [],
   "source": []
  }
 ],
 "metadata": {
  "kernelspec": {
   "display_name": "Python 3 (ipykernel)",
   "language": "python",
   "name": "python3"
  },
  "language_info": {
   "codemirror_mode": {
    "name": "ipython",
    "version": 3
   },
   "file_extension": ".py",
   "mimetype": "text/x-python",
   "name": "python",
   "nbconvert_exporter": "python",
   "pygments_lexer": "ipython3",
   "version": "3.11.9"
  }
 },
 "nbformat": 4,
 "nbformat_minor": 5
}
