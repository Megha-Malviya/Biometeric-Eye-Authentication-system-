{
 "cells": [
  {
   "cell_type": "code",
   "execution_count": 3,
   "id": "7b37cc58",
   "metadata": {},
   "outputs": [
    {
     "name": "stdout",
     "output_type": "stream",
     "text": [
      "Face Authentication System\n"
     ]
    },
    {
     "name": "stdin",
     "output_type": "stream",
     "text": [
      "Press Enter to start authentication... \n"
     ]
    },
    {
     "name": "stderr",
     "output_type": "stream",
     "text": [
      "WARNING:absl:Compiled the loaded model, but the compiled metrics have yet to be built. `model.compile_metrics` will be empty until you train or evaluate the model.\n"
     ]
    },
    {
     "name": "stdin",
     "output_type": "stream",
     "text": [
      "Press Enter to start capturing image... \n"
     ]
    },
    {
     "name": "stdout",
     "output_type": "stream",
     "text": [
      "Press 'q' to capture image.\n",
      "\u001b[1m1/1\u001b[0m \u001b[32m━━━━━━━━━━━━━━━━━━━━\u001b[0m\u001b[37m\u001b[0m \u001b[1m0s\u001b[0m 290ms/step\n",
      "Authenticated: mohini (Confidence: 1.00)\n",
      "Gate Opening...\n"
     ]
    }
   ],
   "source": [
    "import os\n",
    "import json\n",
    "import cv2\n",
    "import numpy as np\n",
    "from tensorflow.keras.models import load_model\n",
    "\n",
    "MODEL_PATH = \"face_recognition_model.h5\"\n",
    "CLASS_INDICES_PATH = \"class_indices.json\"\n",
    "\n",
    "def load_class_indices():\n",
    "    if not os.path.exists(CLASS_INDICES_PATH):\n",
    "        print(\"Class indices not found. Train the model first.\")\n",
    "        return None\n",
    "    with open(CLASS_INDICES_PATH, 'r') as f:\n",
    "        return json.load(f)\n",
    "\n",
    "def capture_image():\n",
    "    input(\"Press Enter to start capturing image...\")\n",
    "    cap = cv2.VideoCapture(0)\n",
    "    print(\"Press 'q' to capture image.\")\n",
    "    \n",
    "    while True:\n",
    "        ret, frame = cap.read()\n",
    "        if not ret:\n",
    "            print(\"Failed to capture frame.\")\n",
    "            break\n",
    "        \n",
    "        cv2.imshow(\"Authenticate\", frame)\n",
    "        if cv2.waitKey(1) & 0xFF == ord('q'):\n",
    "            cap.release()\n",
    "            cv2.destroyAllWindows()\n",
    "            return frame\n",
    "\n",
    "def preprocess_image(image):\n",
    "    image = cv2.resize(image, (128, 128))\n",
    "    image = image.astype('float32') / 255.0\n",
    "    return np.expand_dims(image, axis=0)\n",
    "\n",
    "def authenticate_user():\n",
    "    if not os.path.exists(MODEL_PATH):\n",
    "        print(\"Model not found. Train the model first.\")\n",
    "        return\n",
    "    \n",
    "    class_indices = load_class_indices()\n",
    "    if class_indices is None:\n",
    "        return\n",
    "    \n",
    "    model = load_model(MODEL_PATH)\n",
    "    frame = capture_image()\n",
    "    if frame is None:\n",
    "        print(\"No image captured.\")\n",
    "        return\n",
    "    \n",
    "    image = preprocess_image(frame)\n",
    "    predictions = model.predict(image)\n",
    "    user_index = np.argmax(predictions)\n",
    "    confidence = np.max(predictions)\n",
    "    \n",
    "    # Map numeric index back to user name\n",
    "    user_map = {v: k for k, v in class_indices.items()}\n",
    "    user_name = user_map.get(user_index, \"Unknown\")\n",
    "    \n",
    "    if confidence > 0.8:\n",
    "        print(f\"Authenticated: {user_name} (Confidence: {confidence:.2f})\")\n",
    "        print(\"Gate Opening...\")\n",
    "    else:\n",
    "        print(\"Authentication Failed. Access Denied.\")\n",
    "\n",
    "if __name__ == \"__main__\":\n",
    "    print(\"Face Authentication System\")\n",
    "    input(\"Press Enter to start authentication...\")\n",
    "    authenticate_user()\n"
   ]
  },
  {
   "cell_type": "code",
   "execution_count": null,
   "id": "38bf38b6",
   "metadata": {},
   "outputs": [],
   "source": []
  }
 ],
 "metadata": {
  "kernelspec": {
   "display_name": "Python 3 (ipykernel)",
   "language": "python",
   "name": "python3"
  },
  "language_info": {
   "codemirror_mode": {
    "name": "ipython",
    "version": 3
   },
   "file_extension": ".py",
   "mimetype": "text/x-python",
   "name": "python",
   "nbconvert_exporter": "python",
   "pygments_lexer": "ipython3",
   "version": "3.11.9"
  }
 },
 "nbformat": 4,
 "nbformat_minor": 5
}
